{
 "cells": [
  {
   "cell_type": "code",
   "execution_count": null,
   "metadata": {},
   "outputs": [],
   "source": [
    "import torch\n",
    "from transformers import AutoTokenizer, AutoModelForSeq2SeqLM"
   ]
  },
  {
   "cell_type": "code",
   "execution_count": null,
   "metadata": {},
   "outputs": [],
   "source": [
    "if torch.cuda.is_available():\n",
    "    device = torch.device(\"cuda\")\n",
    "    print(\"GPU available\")\n",
    "#elif torch.backends.mps.is_available():\n",
    "    #device = torch.device(\"mps\")\n",
    "    #print(\"MPS available\")\n",
    "else:\n",
    "    print(\"Falling back to CPU\")\n",
    "    device = torch.device(\"cpu\")"
   ]
  },
  {
   "cell_type": "code",
   "execution_count": null,
   "metadata": {},
   "outputs": [],
   "source": [
    "# This can take a while (download, and moving model to GPU)\n",
    "tokenizer = AutoTokenizer.from_pretrained(\"ibm/knowgl-large\")\n",
    "model = AutoModelForSeq2SeqLM.from_pretrained(\"ibm/knowgl-large\").to(device)"
   ]
  },
  {
   "cell_type": "code",
   "execution_count": null,
   "metadata": {},
   "outputs": [],
   "source": [
    "#import articles as json\n",
    "import json\n",
    "\n",
    "with open('data.json', 'r') as file:\n",
    "    data = json.load(file)\n",
    "\n",
    "texts = [item['text'] for item in data]\n",
    "\n",
    "input_text = texts"
   ]
  },
  {
   "cell_type": "code",
   "execution_count": null,
   "metadata": {},
   "outputs": [],
   "source": [
    "# From here: https://en.wikipedia.org/wiki/The_Great_Last_Judgement_(Rubens)\n",
    "input_text = \"\"\"\n",
    "The Open Window, also known as Open Window, Collioure, is a painting by Henri Matisse. The work, an oil on canvas, was painted in 1905 and exhibited at the Salon d'Automne in Paris the same year. It was bequeathed in 1998 by the estate of Mrs. John Hay Whitney to the National Gallery of Art, Washington, DC.[1]\n",
    "\n",
    "It is an example of the Fauvist style of painting that Matisse became famous for, and for which he was a leader, roughly between the years 1900–1909.[2] The Open Window depicts the view out the window of his apartment in Collioure, on the Southern coast of France. We see sailboats on the water, as viewed from Matisse's hotel window overlooking the harbour. He returned frequently to the theme of the open window in Paris and especially during the years in Nice and Etretat, and in his final years, particularly during the late 1940s.\n",
    "\n",
    "Henri Matisse loved painting open windows and painted them throughout his career. \n",
    "\"\"\""
   ]
  },
  {
   "cell_type": "code",
   "execution_count": null,
   "metadata": {},
   "outputs": [],
   "source": [
    "import nltk\n",
    "\n",
    "nltk.download(\"punkt\")\n",
    "from nltk.tokenize import sent_tokenize\n",
    "\n",
    "# Split the input text into sentences using nltk tokenizer\n",
    "sentences = sent_tokenize(input_text)\n",
    "print(sentences)"
   ]
  },
  {
   "cell_type": "code",
   "execution_count": null,
   "metadata": {},
   "outputs": [],
   "source": [
    "decoded_outputs = []\n",
    "\n",
    "for sentence in sentences:\n",
    "    inputs = tokenizer(sentence, return_tensors=\"pt\").to(device)\n",
    "    # This can take a while too\n",
    "    num_beams = 15\n",
    "    output = model.generate(**inputs, max_length=1000, num_beams=num_beams)\n",
    "\n",
    "    decoded_output = tokenizer.decode(output[0].to(device), skip_special_tokens=True)\n",
    "    decoded_outputs.append(decoded_output)\n",
    "\n",
    "print(decoded_outputs)"
   ]
  },
  {
   "cell_type": "code",
   "execution_count": null,
   "metadata": {},
   "outputs": [],
   "source": [
    "def parse_string(s):\n",
    "    s = s.strip(\"[]\")\n",
    "    # Split into subject, relation, object\n",
    "    parts = s.split(\"|\")\n",
    "    result = {}\n",
    "    for i, part in enumerate(parts):\n",
    "        part = part.strip(\"()\")\n",
    "        mention_label_type = part.split(\"#\")\n",
    "        if i == 0:\n",
    "            result[\"subject\"] = {\n",
    "                \"mention\": mention_label_type[0],\n",
    "                \"label\": mention_label_type[1],\n",
    "                \"type\": mention_label_type[2],\n",
    "            }\n",
    "        elif i == 1:\n",
    "            result[\"relation\"] = {\"label\": mention_label_type[0]}\n",
    "        else:\n",
    "            result[\"object\"] = {\n",
    "                \"mention\": mention_label_type[0],\n",
    "                \"label\": mention_label_type[1],\n",
    "                \"type\": mention_label_type[2],\n",
    "            }\n",
    "    return result\n",
    "\n",
    "\n",
    "statements = []\n",
    "for line in decoded_outputs:\n",
    "    single_statement = line.split(\"$\")\n",
    "    for statement_text in single_statement:\n",
    "        parsed_statement = parse_string(statement_text)\n",
    "        statements.append(parsed_statement)\n",
    "        print(parsed_statement)"
   ]
  },
  {
   "cell_type": "code",
   "execution_count": null,
   "metadata": {},
   "outputs": [],
   "source": [
    "import json\n",
    "\n",
    "# Save statements to file to split the most ressource intensive steps\n",
    "# First the knowledge extraction of the raw text\n",
    "# After this the knowledge reconciliation with Wikidata\n",
    "statements_json = json.dumps(statements, indent=4)\n",
    "\n",
    "file_path = \"statements.json\"\n",
    "\n",
    "with open(file_path, \"w\") as file:\n",
    "    file.write(statements_json)\n",
    "\n",
    "print(\"Statements saved to file:\", file_path)"
   ]
  },
  {
   "cell_type": "code",
   "execution_count": null,
   "metadata": {},
   "outputs": [],
   "source": [
    "import json\n",
    "\n",
    "file_path = \"statements.json\"\n",
    "\n",
    "with open(file_path, \"r\") as file:\n",
    "    statements = json.load(file)"
   ]
  },
  {
   "cell_type": "code",
   "execution_count": null,
   "metadata": {},
   "outputs": [],
   "source": [
    "import requests\n",
    "\n",
    "\n",
    "def get_wikidata_id(label, type_id=None):\n",
    "    if type_id:\n",
    "        # type_param = f\"%2C%22type%22%3A%22{type_id}\"\n",
    "        type_param = f\"\"\"\\\"type\":\"{type_id}\",\"\"\"\n",
    "    else:\n",
    "        type_param = \"\"\n",
    "    # url = f\"\"\"https://wikidata.reconci.link/en/api?queries=%7B%22q0%22%3A%7B%22query%22%3A%22{label}{type_param}%22%2C%22limit%22%3A1%7D%7D\"\"\"\n",
    "    url = f\"\"\"https://wikidata.reconci.link/en/api?queries={{\"q0\":{{\"query\":\"{label}\",{type_param}\"limit\":1}}}}\"\"\"\n",
    "    response = requests.get(url)\n",
    "    data = json.loads(response.text)\n",
    "\n",
    "    if \"q0\" in data and len(data[\"q0\"][\"result\"]) > 0:\n",
    "        return data[\"q0\"][\"result\"][0]\n",
    "    else:\n",
    "        if type_id:\n",
    "            # Try again without type\n",
    "            return get_wikidata_id(label)\n",
    "        return None\n",
    "\n",
    "\n",
    "def get_wikidata_property(query):\n",
    "    url = f\"https://wikidata.reconci.link/en/suggest/property?prefix={query['label']}\"\n",
    "    response = requests.get(url)\n",
    "    data = json.loads(response.text)\n",
    "\n",
    "    return data[\"result\"][0] if data[\"result\"] else None\n",
    "\n",
    "\n",
    "def process_statements(statements):\n",
    "    for statement in statements:\n",
    "        for key, value in statement.items():\n",
    "            if key in [\"subject\", \"object\"]:\n",
    "                if value[\"type\"] is not None:\n",
    "                    # Try to get type id from Wikidata\n",
    "                    type_id = get_wikidata_id(value[\"type\"])\n",
    "                    if type_id:\n",
    "                        # Reconcliation against type\n",
    "                        result = get_wikidata_id(value[\"label\"], type_id[\"id\"])\n",
    "                        # If no result, try reconcliation against no type\n",
    "                    else:\n",
    "                        result = get_wikidata_id(value[\"label\"])\n",
    "                else:\n",
    "                    result = get_wikidata_id(value[\"label\"])\n",
    "\n",
    "                if result:\n",
    "                    value[\"result\"] = {\n",
    "                        \"description\": result.get(\"description\", \"\"),\n",
    "                        \"id\": result[\"id\"],\n",
    "                        \"wd_name\": result.get(\"name\", \"\"),\n",
    "                    }\n",
    "                else:\n",
    "                    print(f\"No matching entity found for: {value['label']}\")\n",
    "                    value[\"result\"] = {\n",
    "                        \"description\": \"\",\n",
    "                        \"id\": \"\",\n",
    "                        \"wd_name\": \"*New: \" + value[\"label\"],\n",
    "                    }\n",
    "\n",
    "            elif key == \"relation\":\n",
    "                result = get_wikidata_property(value)\n",
    "                value[\"result\"] = result if result else \"\"\n",
    "                if not result:\n",
    "                    print(f\"No matching property found for: {value['label']}\")\n",
    "    return statements\n",
    "\n",
    "\n",
    "reconciled_statements = process_statements(statements)"
   ]
  },
  {
   "cell_type": "code",
   "execution_count": null,
   "metadata": {},
   "outputs": [],
   "source": [
    "print(json.dumps(reconciled_statements, indent=4))"
   ]
  },
  {
   "cell_type": "code",
   "execution_count": null,
   "metadata": {},
   "outputs": [],
   "source": [
    "from pyvis.network import Network\n",
    "\n",
    "graph = Network(height=\"800px\", width=\"100%\", notebook=True)\n",
    "\n",
    "for statement in reconciled_statements:\n",
    "    graph.add_node(\n",
    "        statement[\"subject\"][\"result\"][\"id\"],\n",
    "        label=statement[\"subject\"][\"result\"][\"wd_name\"],\n",
    "    )\n",
    "    graph.add_node(\n",
    "        statement[\"object\"][\"result\"][\"id\"],\n",
    "        label=statement[\"object\"][\"result\"][\"wd_name\"],\n",
    "    )\n",
    "    graph.add_edge(\n",
    "        statement[\"subject\"][\"result\"][\"id\"],\n",
    "        statement[\"object\"][\"result\"][\"id\"],\n",
    "        label=statement[\"relation\"][\"label\"],\n",
    "    )\n",
    "\n",
    "graph.show(\"knowledge_graph_manet.html\")"
   ]
  }
 ],
 "metadata": {
  "kernelspec": {
   "display_name": ".venv",
   "language": "python",
   "name": "python3"
  },
  "language_info": {
   "codemirror_mode": {
    "name": "ipython",
    "version": 3
   },
   "file_extension": ".py",
   "mimetype": "text/x-python",
   "name": "python",
   "nbconvert_exporter": "python",
   "pygments_lexer": "ipython3",
   "version": "3.11.2"
  }
 },
 "nbformat": 4,
 "nbformat_minor": 2
}
