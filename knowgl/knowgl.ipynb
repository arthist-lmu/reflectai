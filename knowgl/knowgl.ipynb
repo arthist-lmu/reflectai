{
 "cells": [
  {
   "cell_type": "code",
   "execution_count": 6,
   "metadata": {},
   "outputs": [],
   "source": [
    "import torch\n",
    "from transformers import AutoTokenizer, AutoModelForSeq2SeqLM"
   ]
  },
  {
   "cell_type": "code",
   "execution_count": 7,
   "metadata": {},
   "outputs": [
    {
     "name": "stdout",
     "output_type": "stream",
     "text": [
      "GPU available\n"
     ]
    }
   ],
   "source": [
    "if torch.cuda.is_available():\n",
    "    device = torch.device(\"cuda\")\n",
    "    print(\"GPU available\")\n",
    "elif torch.backends.mps.is_available():\n",
    "    device = torch.device(\"mps\")\n",
    "    print(\"MPS available\")\n",
    "else:\n",
    "    device = torch.device(\"cpu\")\n",
    "\n",
    "tokenizer = AutoTokenizer.from_pretrained(\"ibm/knowgl-large\")\n",
    "model = AutoModelForSeq2SeqLM.from_pretrained(\"ibm/knowgl-large\").to(device)"
   ]
  },
  {
   "cell_type": "code",
   "execution_count": 8,
   "metadata": {},
   "outputs": [],
   "source": [
    "input_text = \"\"\"The painting shows the Last Judgement, with God the Father at the top centre and Jesus just below him. \n",
    "To Jesus' right is his mother the Virgin Mary and to his left is Moses, holding the tablets showing the Ten Commandments. \n",
    "Rising up the left-hand side of the painting (at Jesus' right hand) are the blessed, whilst the damned fall into hell on the right-hand side. \n",
    "At the base of the painting are the dead, dying and those just resurrected. \"\"\""
   ]
  },
  {
   "cell_type": "code",
   "execution_count": 9,
   "metadata": {},
   "outputs": [
    {
     "name": "stderr",
     "output_type": "stream",
     "text": [
      "/home/kristbaum/Projects/reflectai/fatcat/.venv/lib/python3.10/site-packages/scipy/__init__.py:155: UserWarning: A NumPy version >=1.18.5 and <1.26.0 is required for this version of SciPy (detected version 1.26.2\n",
      "  warnings.warn(f\"A NumPy version >={np_minversion} and <{np_maxversion}\"\n"
     ]
    },
    {
     "name": "stdout",
     "output_type": "stream",
     "text": [
      "['The painting shows the Last Judgement, with God the Father at the top centre and Jesus just below him.', \"To Jesus' right is his mother the Virgin Mary and to his left is Moses, holding the tablets showing the Ten Commandments.\", \"Rising up the left-hand side of the painting (at Jesus' right hand) are the blessed, whilst the damned fall into hell on the right-hand side.\", 'At the base of the painting are the dead, dying and those just resurrected.']\n"
     ]
    },
    {
     "name": "stderr",
     "output_type": "stream",
     "text": [
      "[nltk_data] Downloading package punkt to /home/kristbaum/nltk_data...\n",
      "[nltk_data]   Package punkt is already up-to-date!\n"
     ]
    }
   ],
   "source": [
    "import nltk\n",
    "\n",
    "nltk.download(\"punkt\") \n",
    "from nltk.tokenize import sent_tokenize\n",
    "\n",
    "# Split the input text into sentences using nltk tokenizer\n",
    "sentences = sent_tokenize(input_text)\n",
    "print(sentences)"
   ]
  },
  {
   "cell_type": "code",
   "execution_count": 10,
   "metadata": {},
   "outputs": [
    {
     "name": "stdout",
     "output_type": "stream",
     "text": [
      "['[(God the Father#God the Father#God)|child|(Jesus#Jesus#human biblical figure)]', '[(Jesus#Jesus#human biblical figure)|mother|(Virgin Mary#Mary, mother of Jesus#human biblical figure)]$[(Moses#Moses#human biblical figure)|mother|(Virgin Mary#Mary, mother of Jesus#human biblical figure)]$[(Ten Commandments#Ten Commandments#commandment)|author|(Moses#Moses#human biblical figure)]', '[(blessed#Blessed#None)|opposite of|(damned#Damnation#punishment)]$[(damned#Damnation#punishment)|opposite of|(blessed#Blessed#None)]', '[(resurrection#Resurrection#occurrence)|opposite of|(dead#Death#biological process)]']\n"
     ]
    }
   ],
   "source": [
    "decoded_outputs = []\n",
    "\n",
    "for sentence in sentences:\n",
    "    inputs = tokenizer(sentence, return_tensors=\"pt\").to(device)\n",
    "\n",
    "    num_beams = 15\n",
    "    output = model.generate(**inputs, max_length=1000, num_beams=num_beams)\n",
    "\n",
    "    decoded_output = tokenizer.decode(output[0].to(device), skip_special_tokens=True)\n",
    "    decoded_outputs.append(decoded_output)\n",
    "\n",
    "print(decoded_outputs)"
   ]
  },
  {
   "cell_type": "code",
   "execution_count": 17,
   "metadata": {},
   "outputs": [
    {
     "name": "stdout",
     "output_type": "stream",
     "text": [
      "{'subject': {'mention': 'God the Father', 'label': 'God the Father', 'type': 'God'}, 'relation': {'label': 'child'}, 'object': {'mention': 'Jesus', 'label': 'Jesus', 'type': 'human biblical figure'}}\n",
      "{'subject': {'mention': 'Jesus', 'label': 'Jesus', 'type': 'human biblical figure'}, 'relation': {'label': 'mother'}, 'object': {'mention': 'Virgin Mary', 'label': 'Mary, mother of Jesus', 'type': 'human biblical figure'}}\n",
      "{'subject': {'mention': 'Moses', 'label': 'Moses', 'type': 'human biblical figure'}, 'relation': {'label': 'mother'}, 'object': {'mention': 'Virgin Mary', 'label': 'Mary, mother of Jesus', 'type': 'human biblical figure'}}\n",
      "{'subject': {'mention': 'Ten Commandments', 'label': 'Ten Commandments', 'type': 'commandment'}, 'relation': {'label': 'author'}, 'object': {'mention': 'Moses', 'label': 'Moses', 'type': 'human biblical figure'}}\n",
      "{'subject': {'mention': 'blessed', 'label': 'Blessed', 'type': 'None'}, 'relation': {'label': 'opposite of'}, 'object': {'mention': 'damned', 'label': 'Damnation', 'type': 'punishment'}}\n",
      "{'subject': {'mention': 'damned', 'label': 'Damnation', 'type': 'punishment'}, 'relation': {'label': 'opposite of'}, 'object': {'mention': 'blessed', 'label': 'Blessed', 'type': 'None'}}\n",
      "{'subject': {'mention': 'resurrection', 'label': 'Resurrection', 'type': 'occurrence'}, 'relation': {'label': 'opposite of'}, 'object': {'mention': 'dead', 'label': 'Death', 'type': 'biological process'}}\n"
     ]
    }
   ],
   "source": [
    "def parse_string(s):\n",
    "    s = s.strip(\"[]\")\n",
    "    # Split into subject, relation, object\n",
    "    parts = s.split(\"|\")\n",
    "    result = {}\n",
    "    for i, part in enumerate(parts):\n",
    "        part = part.strip(\"()\")\n",
    "        mention_label_type = part.split(\"#\")\n",
    "        if i == 0:\n",
    "            result[\"subject\"] = {\n",
    "                \"mention\": mention_label_type[0],\n",
    "                \"label\": mention_label_type[1],\n",
    "                \"type\": mention_label_type[2],\n",
    "            }\n",
    "        elif i == 1:\n",
    "            result[\"relation\"] = {\"label\": mention_label_type[0]}\n",
    "        else:\n",
    "            result[\"object\"] = {\n",
    "                \"mention\": mention_label_type[0],\n",
    "                \"label\": mention_label_type[1],\n",
    "                \"type\": mention_label_type[2],\n",
    "            }\n",
    "    return result\n",
    "\n",
    "\n",
    "statements = []\n",
    "for decoded_output in decoded_outputs:\n",
    "    single_statement_text = decoded_output.split(\"$\")\n",
    "    for statement_text in single_statement_text:\n",
    "        parsed_statement = parse_string(statement_text)\n",
    "        statements.append(parsed_statement)\n",
    "        print(parsed_statement)\n",
    "\n",
    "\n"
   ]
  },
  {
   "cell_type": "code",
   "execution_count": 18,
   "metadata": {},
   "outputs": [
    {
     "ename": "AttributeError",
     "evalue": "'list' object has no attribute 'items'",
     "output_type": "error",
     "traceback": [
      "\u001b[0;31m---------------------------------------------------------------------------\u001b[0m",
      "\u001b[0;31mAttributeError\u001b[0m                            Traceback (most recent call last)",
      "\u001b[1;32m/home/kristbaum/Projects/reflectai/knowgl/knowgl.ipynb Cell 7\u001b[0m line \u001b[0;36m4\n\u001b[1;32m      <a href='vscode-notebook-cell:/home/kristbaum/Projects/reflectai/knowgl/knowgl.ipynb#X15sZmlsZQ%3D%3D?line=0'>1</a>\u001b[0m \u001b[39mimport\u001b[39;00m \u001b[39mrequests\u001b[39;00m\n\u001b[1;32m      <a href='vscode-notebook-cell:/home/kristbaum/Projects/reflectai/knowgl/knowgl.ipynb#X15sZmlsZQ%3D%3D?line=1'>2</a>\u001b[0m \u001b[39mimport\u001b[39;00m \u001b[39mjson\u001b[39;00m\n\u001b[0;32m----> <a href='vscode-notebook-cell:/home/kristbaum/Projects/reflectai/knowgl/knowgl.ipynb#X15sZmlsZQ%3D%3D?line=3'>4</a>\u001b[0m \u001b[39mfor\u001b[39;00m key, value \u001b[39min\u001b[39;00m statements\u001b[39m.\u001b[39;49mitems():\n\u001b[1;32m      <a href='vscode-notebook-cell:/home/kristbaum/Projects/reflectai/knowgl/knowgl.ipynb#X15sZmlsZQ%3D%3D?line=4'>5</a>\u001b[0m     \u001b[39mif\u001b[39;00m \u001b[39m\"\u001b[39m\u001b[39mname\u001b[39m\u001b[39m\"\u001b[39m \u001b[39min\u001b[39;00m value:\n\u001b[1;32m      <a href='vscode-notebook-cell:/home/kristbaum/Projects/reflectai/knowgl/knowgl.ipynb#X15sZmlsZQ%3D%3D?line=5'>6</a>\u001b[0m         \u001b[39mif\u001b[39;00m key \u001b[39m==\u001b[39m \u001b[39m\"\u001b[39m\u001b[39msubject\u001b[39m\u001b[39m\"\u001b[39m \u001b[39mor\u001b[39;00m key \u001b[39m==\u001b[39m \u001b[39m\"\u001b[39m\u001b[39mobject\u001b[39m\u001b[39m\"\u001b[39m:\n",
      "\u001b[0;31mAttributeError\u001b[0m: 'list' object has no attribute 'items'"
     ]
    }
   ],
   "source": [
    "import requests\n",
    "import json\n",
    "\n",
    "for key, value in statements.items():\n",
    "    if \"name\" in value:\n",
    "        if key == \"subject\" or key == \"object\":\n",
    "            query = value[\"name\"]\n",
    "            print(\"Querying Wikidata for: \" + query)\n",
    "            url = f\"https://wikidata.reconci.link/en/api?queries=%7B%22q0%22%3A%7B%22query%22%3A%22{query}%22%2C%22limit%22%3A1%7D%7D\"\n",
    "            response = requests.get(url)\n",
    "            data = json.loads(response.text)\n",
    "            value[\"result\"] = {\n",
    "                \"description\": data[\"q0\"][\"result\"][0][\"description\"],\n",
    "                \"id\": data[\"q0\"][\"result\"][0][\"id\"],\n",
    "                \"wd_name\": data[\"q0\"][\"result\"][0][\"name\"],\n",
    "            }\n",
    "        elif key == \"relation\":\n",
    "            query = value[\"name\"]\n",
    "            print(\"Querying Wikidata for: \" + query)\n",
    "            url = f\"https://wikidata.reconci.link/en/suggest/property?prefix={query}\"\n",
    "            response = requests.get(url)\n",
    "            data = json.loads(response.text)\n",
    "            if data[\"result\"][0]:\n",
    "                value[\"result\"] = (data[\"result\"][0],)\n",
    "            else:\n",
    "                value[\"result\"] = \"No matching property found.\"\n",
    "\n",
    "\n",
    "print(parsed_statement)"
   ]
  },
  {
   "cell_type": "markdown",
   "metadata": {},
   "source": []
  },
  {
   "cell_type": "code",
   "execution_count": null,
   "metadata": {},
   "outputs": [
    {
     "name": "stdout",
     "output_type": "stream",
     "text": [
      "{\n",
      "    \"subject\": {\n",
      "        \"name\": \"maidservant\",\n",
      "        \"category\": \"profession\",\n",
      "        \"result\": {\n",
      "            \"description\": \"female employee household work in the employer's home\",\n",
      "            \"id\": \"Q833860\",\n",
      "            \"wd_name\": \"maid\"\n",
      "        }\n",
      "    },\n",
      "    \"verb\": {\n",
      "        \"name\": \"field of this occupation\",\n",
      "        \"result\": [\n",
      "            {\n",
      "                \"description\": \"field corresponding to this occupation or profession (use only for occupations/professions - for people use Property:P101, for companies use P425)\",\n",
      "                \"id\": \"P425\",\n",
      "                \"name\": \"field of this occupation\"\n",
      "            }\n",
      "        ]\n",
      "    },\n",
      "    \"object\": {\n",
      "        \"name\": \"milk\",\n",
      "        \"category\": \"food\",\n",
      "        \"result\": {\n",
      "            \"description\": \"white liquid produced by the mammary glands of mammals\",\n",
      "            \"id\": \"Q8495\",\n",
      "            \"wd_name\": \"milk\"\n",
      "        }\n",
      "    }\n",
      "}\n"
     ]
    }
   ],
   "source": [
    "print(json.dumps(parsed_statement, indent=4))\n"
   ]
  },
  {
   "cell_type": "code",
   "execution_count": null,
   "metadata": {},
   "outputs": [
    {
     "name": "stdout",
     "output_type": "stream",
     "text": [
      "Warning: When  cdn_resources is 'local' jupyter notebook has issues displaying graphics on chrome/safari. Use cdn_resources='in_line' or cdn_resources='remote' if you have issues viewing graphics in a notebook.\n",
      "knowledge_graph.html\n"
     ]
    },
    {
     "data": {
      "text/html": [
       "\n",
       "        <iframe\n",
       "            width=\"100%\"\n",
       "            height=\"800px\"\n",
       "            src=\"knowledge_graph.html\"\n",
       "            frameborder=\"0\"\n",
       "            allowfullscreen\n",
       "            \n",
       "        ></iframe>\n",
       "        "
      ],
      "text/plain": [
       "<IPython.lib.display.IFrame at 0x7f6b2054fb50>"
      ]
     },
     "execution_count": 7,
     "metadata": {},
     "output_type": "execute_result"
    }
   ],
   "source": [
    "from pyvis.network import Network\n",
    "\n",
    "graph = Network(height=\"800px\", width=\"100%\", notebook=True)\n",
    "\n",
    "graph.add_node(parsed_statement[\"subject\"][\"result\"][\"id\"], label=parsed_statement[\"subject\"][\"result\"][\"wd_name\"])\n",
    "graph.add_node(parsed_statement[\"object\"][\"result\"][\"id\"], label=parsed_statement[\"object\"][\"result\"][\"wd_name\"])\n",
    "graph.add_edge(parsed_statement[\"subject\"][\"result\"][\"id\"], parsed_statement[\"object\"][\"result\"][\"id\"], label=parsed_statement[\"relation\"][\"name\"])\n",
    "\n",
    "graph.show(\"knowledge_graph.html\")\n"
   ]
  }
 ],
 "metadata": {
  "kernelspec": {
   "display_name": ".venv",
   "language": "python",
   "name": "python3"
  },
  "language_info": {
   "codemirror_mode": {
    "name": "ipython",
    "version": 3
   },
   "file_extension": ".py",
   "mimetype": "text/x-python",
   "name": "python",
   "nbconvert_exporter": "python",
   "pygments_lexer": "ipython3",
   "version": "3.10.12"
  }
 },
 "nbformat": 4,
 "nbformat_minor": 2
}
