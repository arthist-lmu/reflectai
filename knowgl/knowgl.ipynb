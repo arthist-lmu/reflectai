{
 "cells": [
  {
   "cell_type": "code",
   "execution_count": 25,
   "metadata": {},
   "outputs": [],
   "source": [
    "import torch\n",
    "from transformers import AutoTokenizer, AutoModelForSeq2SeqLM"
   ]
  },
  {
   "cell_type": "code",
   "execution_count": 26,
   "metadata": {},
   "outputs": [
    {
     "name": "stdout",
     "output_type": "stream",
     "text": [
      "GPU available\n",
      "[(maidservant#Maidservant#profession)|field of this occupation|(milk#Milk#food)]$[(milk#Milk#food)|practiced by|(maidservant#Maidservant#profession)]\n"
     ]
    }
   ],
   "source": [
    "\n",
    "if torch.cuda.is_available():\n",
    "    device = torch.device(\"cuda\")\n",
    "    print(\"GPU available\")\n",
    "else:\n",
    "    device = torch.device(\"cpu\")\n",
    "\n",
    "tokenizer = AutoTokenizer.from_pretrained(\"ibm/knowgl-large\")\n",
    "model = AutoModelForSeq2SeqLM.from_pretrained(\"ibm/knowgl-large\").to(device)\n",
    "\n",
    "input_text = \"A maidservant pours milk, entirely absorbed in her work. Except for the stream of milk, everything else is still.\"\n",
    "\n",
    "inputs = tokenizer(input_text, return_tensors=\"pt\").to(device)\n",
    "\n",
    "num_beams = 10\n",
    "output = model.generate(**inputs, max_length=1000, num_beams=num_beams)\n",
    "\n",
    "decoded_output = tokenizer.decode(output[0].to(\"cuda\"), skip_special_tokens=True)\n",
    "\n",
    "print(decoded_output)"
   ]
  },
  {
   "cell_type": "code",
   "execution_count": 28,
   "metadata": {},
   "outputs": [
    {
     "name": "stdout",
     "output_type": "stream",
     "text": [
      "{'subject': {'name': 'maidservant', 'category': 'profession'}, 'verb': {'name': 'field of this occupation'}, 'object': {'name': 'milk', 'category': 'food'}}\n"
     ]
    }
   ],
   "source": [
    "def parse_string(s):\n",
    "    statements = s.split(\"$\")\n",
    "    s = statements[0].strip(\"[]\")\n",
    "    # Split into subject, verb, object\n",
    "    parts = s.split(\"|\")\n",
    "    result = {}\n",
    "    for i, part in enumerate(parts):\n",
    "        part = part.strip(\"()\")\n",
    "        name_category = part.split(\"#\")[::2]\n",
    "        if i == 0:\n",
    "            result[\"subject\"] = {\"name\": name_category[0], \"category\": name_category[1]}\n",
    "        elif i == 1:\n",
    "            result[\"verb\"] = {\"name\": name_category[0]}\n",
    "        else:\n",
    "            result[\"object\"] = {\"name\": name_category[0], \"category\": name_category[1]}\n",
    "    return result\n",
    "\n",
    "\n",
    "parsed_statement = parse_string(decoded_output)\n",
    "print(parsed_statement)"
   ]
  },
  {
   "cell_type": "code",
   "execution_count": 30,
   "metadata": {},
   "outputs": [
    {
     "name": "stdout",
     "output_type": "stream",
     "text": [
      "Querying Wikidata for: maidservant\n",
      "Querying Wikidata for: field of this occupation\n",
      "Querying Wikidata for: milk\n",
      "{'subject': {'name': 'maidservant', 'category': 'profession', 'result': {'description': \"female employee household work in the employer's home\", 'id': 'Q833860', 'wd_name': 'maid'}}, 'verb': {'name': 'field of this occupation', 'result': ({'description': 'field corresponding to this occupation or profession (use only for occupations/professions - for people use Property:P101, for companies use P425)', 'id': 'P425', 'name': 'field of this occupation'},)}, 'object': {'name': 'milk', 'category': 'food', 'result': {'description': 'white liquid produced by the mammary glands of mammals', 'id': 'Q8495', 'wd_name': 'milk'}}}\n"
     ]
    }
   ],
   "source": [
    "import requests\n",
    "import json\n",
    "\n",
    "for key, value in parsed_statement.items():\n",
    "    if \"name\" in value:\n",
    "        if key == \"subject\" or key == \"object\":\n",
    "            query = value[\"name\"]\n",
    "            print(\"Querying Wikidata for: \" + query)\n",
    "            url = f\"https://wikidata.reconci.link/en/api?queries=%7B%22q0%22%3A%7B%22query%22%3A%22{query}%22%2C%22limit%22%3A1%7D%7D\"\n",
    "            response = requests.get(url)\n",
    "            data = json.loads(response.text)\n",
    "            value[\"result\"] = {\n",
    "                \"description\": data[\"q0\"][\"result\"][0][\"description\"],\n",
    "                \"id\": data[\"q0\"][\"result\"][0][\"id\"],\n",
    "                \"wd_name\": data[\"q0\"][\"result\"][0][\"name\"],\n",
    "            }\n",
    "        elif key == \"verb\":\n",
    "            query = value[\"name\"]\n",
    "            print(\"Querying Wikidata for: \" + query)\n",
    "            url = f\"https://wikidata.reconci.link/en/suggest/property?prefix={query}\"\n",
    "            response = requests.get(url)\n",
    "            data = json.loads(response.text)\n",
    "            if data[\"result\"][0]:\n",
    "                value[\"result\"] = (data[\"result\"][0],)\n",
    "            else:\n",
    "                value[\"result\"] = \"No matching property found.\"\n",
    "\n",
    "\n",
    "print(parsed_statement)"
   ]
  },
  {
   "cell_type": "markdown",
   "metadata": {},
   "source": []
  },
  {
   "cell_type": "code",
   "execution_count": 31,
   "metadata": {},
   "outputs": [
    {
     "name": "stdout",
     "output_type": "stream",
     "text": [
      "{\n",
      "    \"subject\": {\n",
      "        \"name\": \"maidservant\",\n",
      "        \"category\": \"profession\",\n",
      "        \"result\": {\n",
      "            \"description\": \"female employee household work in the employer's home\",\n",
      "            \"id\": \"Q833860\",\n",
      "            \"wd_name\": \"maid\"\n",
      "        }\n",
      "    },\n",
      "    \"verb\": {\n",
      "        \"name\": \"field of this occupation\",\n",
      "        \"result\": [\n",
      "            {\n",
      "                \"description\": \"field corresponding to this occupation or profession (use only for occupations/professions - for people use Property:P101, for companies use P425)\",\n",
      "                \"id\": \"P425\",\n",
      "                \"name\": \"field of this occupation\"\n",
      "            }\n",
      "        ]\n",
      "    },\n",
      "    \"object\": {\n",
      "        \"name\": \"milk\",\n",
      "        \"category\": \"food\",\n",
      "        \"result\": {\n",
      "            \"description\": \"white liquid produced by the mammary glands of mammals\",\n",
      "            \"id\": \"Q8495\",\n",
      "            \"wd_name\": \"milk\"\n",
      "        }\n",
      "    }\n",
      "}\n"
     ]
    }
   ],
   "source": [
    "print(json.dumps(parsed_statement, indent=4))\n"
   ]
  },
  {
   "cell_type": "code",
   "execution_count": null,
   "metadata": {},
   "outputs": [],
   "source": [
    "from pyvis.network import Network\n",
    "\n",
    "graph = Network(height=\"800px\", width=\"100%\", notebook=True)\n",
    "\n",
    "graph.add_node(parsed_statement[\"subject\"][\"result\"][\"id\"], label=parsed_statement[\"subject\"][\"result\"][\"wd_name\"])\n",
    "graph.add_node(parsed_statement[\"object\"][\"result\"][\"id\"], label=parsed_statement[\"object\"][\"result\"][\"wd_name\"])\n",
    "graph.add_edge(parsed_statement[\"subject\"][\"result\"][\"id\"], parsed_statement[\"object\"][\"result\"][\"id\"], label=parsed_statement[\"verb\"][\"name\"])\n",
    "\n",
    "graph.show(\"knowledge_graph.html\")\n"
   ]
  }
 ],
 "metadata": {
  "kernelspec": {
   "display_name": ".venv",
   "language": "python",
   "name": "python3"
  },
  "language_info": {
   "codemirror_mode": {
    "name": "ipython",
    "version": 3
   },
   "file_extension": ".py",
   "mimetype": "text/x-python",
   "name": "python",
   "nbconvert_exporter": "python",
   "pygments_lexer": "ipython3",
   "version": "3.8.8"
  }
 },
 "nbformat": 4,
 "nbformat_minor": 2
}
