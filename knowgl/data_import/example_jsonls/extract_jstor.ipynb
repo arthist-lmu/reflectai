{
 "cells": [
  {
   "cell_type": "code",
   "execution_count": 3,
   "metadata": {},
   "outputs": [],
   "source": [
    "def extract_first_line(input_filepath, output_filepath):\n",
    "    # Open the input file in read mode\n",
    "    with open(input_filepath, \"r\") as input_file:\n",
    "        # Read the first line\n",
    "        first_line = input_file.readline()\n",
    "\n",
    "        # Check if the first line is not empty\n",
    "        if first_line:\n",
    "            # Open the output file in write mode\n",
    "            with open(output_filepath, \"w\") as output_file:\n",
    "                # Write the first line to the output file\n",
    "                output_file.write(first_line)\n",
    "\n",
    "\n",
    "# Example usage\n",
    "input_filepath = \"./../../../../../../coding_projekte/a654d395-e0a6-605c-0a0e-4025814c14c0-jsonl.jsonl\"  # Replace with your actual input file path\n",
    "output_filepath = \"./first_line.jsonl\"  # Replace with your desired output file path\n",
    "\n",
    "# Extract the first line of the input JSONL file and save it to a new file\n",
    "extract_first_line(input_filepath, output_filepath)"
   ]
  }
 ],
 "metadata": {
  "kernelspec": {
   "display_name": "Python 3",
   "language": "python",
   "name": "python3"
  },
  "language_info": {
   "codemirror_mode": {
    "name": "ipython",
    "version": 3
   },
   "file_extension": ".py",
   "mimetype": "text/x-python",
   "name": "python",
   "nbconvert_exporter": "python",
   "pygments_lexer": "ipython3",
   "version": "3.11.2"
  }
 },
 "nbformat": 4,
 "nbformat_minor": 2
}
